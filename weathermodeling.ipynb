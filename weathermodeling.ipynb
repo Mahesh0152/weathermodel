{
  "nbformat": 4,
  "nbformat_minor": 0,
  "metadata": {
    "colab": {
      "provenance": [],
      "authorship_tag": "ABX9TyNI0XgxJcwA05nQQkITTtmt",
      "include_colab_link": true
    },
    "kernelspec": {
      "name": "python3",
      "display_name": "Python 3"
    },
    "language_info": {
      "name": "python"
    }
  },
  "cells": [
    {
      "cell_type": "markdown",
      "metadata": {
        "id": "view-in-github",
        "colab_type": "text"
      },
      "source": [
        "<a href=\"https://colab.research.google.com/github/Mahesh0152/weathermodel/blob/main/weathermodeling.ipynb\" target=\"_parent\"><img src=\"https://colab.research.google.com/assets/colab-badge.svg\" alt=\"Open In Colab\"/></a>"
      ]
    },
    {
      "cell_type": "markdown",
      "source": [
        "**1.Hardcoding Variables**\n",
        "\n",
        "\n"
      ],
      "metadata": {
        "id": "M6CHOJ8HT8gx"
      }
    },
    {
      "cell_type": "code",
      "execution_count": 3,
      "metadata": {
        "colab": {
          "base_uri": "https://localhost:8080/"
        },
        "id": "JGd7iQPRSi4L",
        "outputId": "398afb42-0c0d-4cc7-c573-313c20dc68f4"
      },
      "outputs": [
        {
          "output_type": "stream",
          "name": "stdout",
          "text": [
            "Hardcoded variables for weather modeling\n",
            "Temperature for hardcoded coefficients at time 6 hours: 35.20\n"
          ]
        }
      ],
      "source": [
        "def weathermodeling(x, y, z, t):\n",
        "    Temperature = x * t**2 + y * t + z\n",
        "    return Temperature\n",
        "i, j, k = 0.2, 3, 10\n",
        "time = 6\n",
        "print(\"Hardcoded variables for weather modeling\")\n",
        "print(f\"Temperature for hardcoded coefficients at time {time} hours: {weathermodeling(i, j, k, time):.2f}\")"
      ]
    },
    {
      "cell_type": "markdown",
      "source": [
        "**2.Accepting variables from keyboard input**"
      ],
      "metadata": {
        "id": "C8KcUGCvWSav"
      }
    },
    {
      "cell_type": "code",
      "source": [
        "def weathermodeling(x, y, z, t):\n",
        "    Temperature = x * t**2 + y * t + z\n",
        "    return Temperature\n",
        "print(\"Enter coefficients for the quadratic equation (x, y, z) and time (t):\")\n",
        "x = float(input(\"Coefficient x: \"))\n",
        "y = float(input(\"Coefficient y: \"))\n",
        "z = float(input(\"Coefficient z: \"))\n",
        "t = float(input(\"Time (t): \"))\n",
        "temperature = weathermodeling(x, y, z, t)\n",
        "print(f\"Temperature for coefficients ({x}, {y}, {z}) at time {t} hours: {temperature:.2f}\")"
      ],
      "metadata": {
        "colab": {
          "base_uri": "https://localhost:8080/"
        },
        "id": "3-kR_4UfWUZv",
        "outputId": "9df50835-c312-4170-f1fe-2389f21ab220"
      },
      "execution_count": 6,
      "outputs": [
        {
          "output_type": "stream",
          "name": "stdout",
          "text": [
            "Enter coefficients for the quadratic equation (x, y, z) and time (t):\n",
            "Coefficient x: 0.2\n",
            "Coefficient y: 3\n",
            "Coefficient z: 10\n",
            "Time (t): 6\n",
            "Temperature for coefficients (0.2, 3.0, 10.0) at time 6.0 hours: 35.20\n"
          ]
        }
      ]
    },
    {
      "cell_type": "markdown",
      "source": [
        "**3.Reading from a file (single input)**"
      ],
      "metadata": {
        "id": "hkyLxUwOXIKY"
      }
    },
    {
      "cell_type": "code",
      "source": [
        "def WeatherM(k, l, m, time):\n",
        "    temp = k * time**2 + l * time + m\n",
        "    return temp\n",
        "with open('singletext.txt', 'r') as file:\n",
        "    x = float(file.readline())\n",
        "    y = float(file.readline())\n",
        "    z = float(file.readline())\n",
        "    time = float(file.readline())\n",
        "print(\"Temp for file input at time\", time, \"hours:\", WeatherM(x, y, z, time))"
      ],
      "metadata": {
        "colab": {
          "base_uri": "https://localhost:8080/"
        },
        "id": "pR2hfS7tXhpA",
        "outputId": "c0213a88-adf5-4887-d676-684e03710017"
      },
      "execution_count": 15,
      "outputs": [
        {
          "output_type": "stream",
          "name": "stdout",
          "text": [
            "Temp for file input at time 6.0 hours: 35.2\n"
          ]
        }
      ]
    },
    {
      "cell_type": "markdown",
      "source": [
        "**4. Reading from a file (Multiple inputs).**"
      ],
      "metadata": {
        "id": "8y4Esx_aZ-qx"
      }
    },
    {
      "cell_type": "code",
      "source": [
        "def WeatherM(k, l, m, time):\n",
        "    temp = k * time**2 + l * time + m\n",
        "    return temp\n",
        "with open('multipleinputs.txt', 'r') as file:\n",
        "    lines = file.readlines()\n",
        "    for line in lines:\n",
        "        k, l, m, time = map(float, line.split(','))\n",
        "        print(f\"Temp for inputs k={k}, l={l}, m={m} at time {time} hours: {WeatherM(k, l, m, time):.2f}\")"
      ],
      "metadata": {
        "colab": {
          "base_uri": "https://localhost:8080/"
        },
        "id": "2tuigQ2RX9rQ",
        "outputId": "5cb9ac78-46ae-4cf7-d234-f64e2d33c659"
      },
      "execution_count": 18,
      "outputs": [
        {
          "output_type": "stream",
          "name": "stdout",
          "text": [
            "Temp for inputs k=0.2, l=3.0, m=10.0 at time 6.0 hours: 35.20\n",
            "Temp for inputs k=0.1, l=4.0, m=15.0 at time 5.0 hours: 37.50\n",
            "Temp for inputs k=0.05, l=2.5, m=12.0 at time 4.0 hours: 22.80\n"
          ]
        }
      ]
    }
  ]
}